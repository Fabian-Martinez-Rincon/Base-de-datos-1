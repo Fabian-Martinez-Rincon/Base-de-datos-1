{
 "cells": [
  {
   "cell_type": "markdown",
   "id": "6b1d3787-545a-41c9-a31a-f26c085a16d1",
   "metadata": {},
   "source": [
    "# Practica 2\n",
    "\n",
    "**Publicación:** 08/09/2025  \n",
    "**Finalización:** 26/09/2025  \n",
    "\n",
    "---\n",
    "\n",
    "### Para los esquemas propuestos en cada ejercicio aplicar y explicar el proceso de normalización visto en la teoría.  \n",
    "**Todos los esquemas ya se encuentran en 1FN.**\n",
    "\n",
    "---\n",
    "\n",
    "#### Algoritmo para analizar la pérdida de dfs.\n",
    "\n",
    "```\n",
    "Res = x\n",
    "Mientras Res cambia\n",
    "Para i = 1 to cant_de_particiones_realizadas\n",
    "Res = Res U ((Res ∩ Ri)+ ∩ Ri)\n",
    "\n",
    "```\n",
    "\n",
    "#### Algoritmo para encontrar X⁺\n",
    "\n",
    "```\n",
    "Result := X\n",
    "While (hay cambios en result) do\n",
    "For (cada dependencia funcional Y -> Z en F) do\n",
    "if (Y ⊆ result) then result := result U Z\n",
    "\n",
    "```\n",
    "\n"
   ]
  },
  {
   "cell_type": "markdown",
   "id": "ffc0716f-e1d8-4b9c-8b60-774146bd1f40",
   "metadata": {},
   "source": [
    "---\n",
    "\n",
    "## PARTE I\n",
    "\n",
    "### 1) Indicar la opción correcta.\n",
    "\n",
    "Dado el siguiente esquema:\n",
    "\n",
    "**MapasPublicados** (idMapa, proyección, escalaMapa, idSitioWeb, dominioSitioWeb,  \n",
    "especialidadSitioWeb, dueñosSitioWeb, fechaPublicaciónMapa, valorPublicación)  \n",
    "\n",
    "Donde:  \n",
    "- A un sitio web se le cobra un valor (“valorPublicación”) por cada fecha (“fechaPublicaciónMapa”) en la cual publique un mapa.  \n",
    "- Un sitio web puede tener varios dueños (“dueñosSitioWeb”).  \n",
    "- Un sitio web posee un único dominio (“dominioSitioWeb”).  \n",
    "- El identificador de un mapa (“idMapa”) es único.  \n",
    "- El identificador de un sitio web (“idSitioWeb”) es único.  \n",
    "- Un mapa se genera con una proyección y a una escala.  \n",
    "- “especialidadSitioWeb” es la especialidad de un sitio.  \n",
    "\n",
    "---\n",
    "\n",
    "Seleccione la frase que considera verdadera:\n",
    "\n",
    "- El esquema tiene una clave candidata  \n",
    "- El esquema tiene más de una clave candidata\n"
   ]
  },
  {
   "cell_type": "code",
   "execution_count": null,
   "id": "ce81f1e0-852e-4424-8b35-ea8cc2904e91",
   "metadata": {},
   "outputs": [],
   "source": []
  }
 ],
 "metadata": {
  "kernelspec": {
   "display_name": "Python 3 (ipykernel)",
   "language": "python",
   "name": "python3"
  },
  "language_info": {
   "codemirror_mode": {
    "name": "ipython",
    "version": 3
   },
   "file_extension": ".py",
   "mimetype": "text/x-python",
   "name": "python",
   "nbconvert_exporter": "python",
   "pygments_lexer": "ipython3",
   "version": "3.8.10"
  }
 },
 "nbformat": 4,
 "nbformat_minor": 5
}
